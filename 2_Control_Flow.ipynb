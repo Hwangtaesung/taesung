{
 "cells": [
  {
   "cell_type": "code",
   "execution_count": 4,
   "id": "da1485ae-8f36-4917-93c6-f2a53b08d699",
   "metadata": {},
   "outputs": [
    {
     "name": "stdout",
     "output_type": "stream",
     "text": [
      "<class 'bool'>\n",
      "<class 'int'>\n",
      "<class 'float'>\n"
     ]
    }
   ],
   "source": [
    "is_tested = True\n",
    "print(type(is_tested))\n",
    "\n",
    "a = 3\n",
    "print(type(a))\n",
    "\n",
    "b = 3.14\n",
    "print(type(b))"
   ]
  },
  {
   "cell_type": "code",
   "execution_count": 5,
   "id": "b1747ab0-86f3-4b97-8c8e-ea3a52720c92",
   "metadata": {},
   "outputs": [
    {
     "data": {
      "text/plain": [
       "False"
      ]
     },
     "execution_count": 5,
     "metadata": {},
     "output_type": "execute_result"
    }
   ],
   "source": [
    "chr = 'a'\n",
    "a= 97\n",
    "chr == a"
   ]
  },
  {
   "cell_type": "code",
   "execution_count": 10,
   "id": "a23206c8-4811-4cb3-a012-75b262e6d6b9",
   "metadata": {},
   "outputs": [
    {
     "ename": "SyntaxError",
     "evalue": "invalid syntax (<ipython-input-10-45b517ed9007>, line 10)",
     "output_type": "error",
     "traceback": [
      "\u001b[1;36m  File \u001b[1;32m\"<ipython-input-10-45b517ed9007>\"\u001b[1;36m, line \u001b[1;32m10\u001b[0m\n\u001b[1;33m    if puppy = \"maltese\" :\u001b[0m\n\u001b[1;37m             ^\u001b[0m\n\u001b[1;31mSyntaxError\u001b[0m\u001b[1;31m:\u001b[0m invalid syntax\n"
     ]
    }
   ],
   "source": [
    "\"\"\"\n",
    "\n",
    "conditional\n",
    "\"\"\"\n",
    "\n",
    "puppy = \"maltepoo\"\n",
    "age = 1\n",
    "is_yes = False\n",
    "\n",
    "if puppy = \"maltese\" :\n",
    "    is_yes = True\n",
    "    print(\"말티즈 맞아요.\")\n",
    "    if age < 3 :\n",
    "        print(\"말티지 새끼에요.\")\n",
    "elif puppy = \"poodle\" :\n",
    "    is_yes = True\n",
    "    print(\"푸들 맞아요.\")\n",
    "    \n",
    "else:\n",
    "    is_yes = True\n",
    "    print(\"말티푸 맞아요.\")\n",
    "    \n",
    "print(is_yes)"
   ]
  },
  {
   "cell_type": "code",
   "execution_count": 14,
   "id": "6f24a683-aaff-4997-b60e-af4deee2f4af",
   "metadata": {},
   "outputs": [
    {
     "name": "stdout",
     "output_type": "stream",
     "text": [
      "[Error]\n",
      "continue...\n"
     ]
    }
   ],
   "source": [
    "\"Exception Handling\"\n",
    "\n",
    "x = 1\n",
    "\n",
    "try:\n",
    "    print(y)\n",
    "    print(x)\n",
    "except:\n",
    "    print('[Error]')\n",
    "    \n",
    "print(\"continue...\")"
   ]
  },
  {
   "cell_type": "code",
   "execution_count": null,
   "id": "dac45a31-575d-4b3d-8692-81dfc0a8a310",
   "metadata": {},
   "outputs": [],
   "source": []
  }
 ],
 "metadata": {
  "kernelspec": {
   "display_name": "Python 3",
   "language": "python",
   "name": "python3"
  },
  "language_info": {
   "codemirror_mode": {
    "name": "ipython",
    "version": 3
   },
   "file_extension": ".py",
   "mimetype": "text/x-python",
   "name": "python",
   "nbconvert_exporter": "python",
   "pygments_lexer": "ipython3",
   "version": "3.8.8"
  }
 },
 "nbformat": 4,
 "nbformat_minor": 5
}
