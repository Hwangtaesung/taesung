{
 "cells": [
  {
   "cell_type": "code",
   "execution_count": 1,
   "id": "ad1f5f7e-cc4a-4a48-be74-3791c1a5dd69",
   "metadata": {},
   "outputs": [],
   "source": [
    "import numpy as np"
   ]
  },
  {
   "cell_type": "code",
   "execution_count": 2,
   "id": "e2fa6c51-cd41-4c24-83a5-03e230fcdf90",
   "metadata": {},
   "outputs": [
    {
     "name": "stdout",
     "output_type": "stream",
     "text": [
      "[7 5 9 1 6]\n"
     ]
    },
    {
     "data": {
      "text/plain": [
       "array([0.14285714, 0.2       , 0.11111111, 1.        , 0.16666667])"
      ]
     },
     "execution_count": 2,
     "metadata": {},
     "output_type": "execute_result"
    }
   ],
   "source": [
    "\"\"\"\n",
    "Computing reciprocals in loops\n",
    "\"\"\"\n",
    "\n",
    "def compute_reciprocals(values):\n",
    "    output = np.empty(len(values))\n",
    "    for i in range(len(values)):\n",
    "        output[i] = 1.0 / values[i]\n",
    "    return output\n",
    "\n",
    "values = np.random.randint(1, 10, size=5)\n",
    "print(values)\n",
    "\n",
    "compute_reciprocals(values)"
   ]
  },
  {
   "cell_type": "code",
   "execution_count": 3,
   "id": "5fd6db65-4042-4f96-bcbe-295fce1e44a2",
   "metadata": {},
   "outputs": [
    {
     "name": "stdout",
     "output_type": "stream",
     "text": [
      "193 ms ± 9.01 ms per loop (mean ± std. dev. of 7 runs, 1 loop each)\n"
     ]
    }
   ],
   "source": [
    "\"\"\"\n",
    "comparison: loop vs ufuncs(vectorized)\n",
    "\"\"\"\n",
    "\n",
    "big_array = np.random.randint(1, 100, size=100000)\n",
    "\n",
    "%timeit compute_reciprocals(big_array)"
   ]
  },
  {
   "cell_type": "code",
   "execution_count": 5,
   "id": "17b23717-3ed0-471b-81f6-b4ff516249ae",
   "metadata": {},
   "outputs": [
    {
     "name": "stdout",
     "output_type": "stream",
     "text": [
      "119 µs ± 6.63 µs per loop (mean ± std. dev. of 7 runs, 10000 loops each)\n"
     ]
    }
   ],
   "source": [
    "%timeit 1 / big_array"
   ]
  },
  {
   "cell_type": "code",
   "execution_count": 7,
   "id": "dddbb53d-7b83-49f0-92bf-6ef067407d73",
   "metadata": {},
   "outputs": [
    {
     "name": "stdout",
     "output_type": "stream",
     "text": [
      "[5 8 9 5 0] [0 1 7 6 9]\n",
      "[-2 -1  5  4  7]\n",
      "[-2  0 12 10 16]\n",
      "[[2 4 5 2 4]\n",
      " [2 4 7 7 9]\n",
      " [1 7 0 6 9]]\n",
      "[[ 4 16 25  4 16]\n",
      " [ 4 16 49 49 81]\n",
      " [ 1 49  0 36 81]]\n"
     ]
    }
   ],
   "source": [
    "\"\"\"\n",
    "numpy.unfunc\n",
    "\"\"\"\n",
    "\n",
    "np.random.seed(1)\n",
    "arr1 = np.random.randint(10, size=(5))\n",
    "arr2 = np.random.randint(10, size=(5))\n",
    "print(arr1, arr2)\n",
    "\n",
    "arr1 = arr2 - 2\n",
    "print(arr1)\n",
    "\n",
    "arr3 = arr1 + arr2\n",
    "print(arr3)\n",
    "\n",
    "arr4 = np.random.randint(10, size=(3, 5))\n",
    "print(arr4)\n",
    "\n",
    "arr5 = arr4**2\n",
    "print(arr5)"
   ]
  },
  {
   "cell_type": "code",
   "execution_count": 8,
   "id": "ec60a0e9-1187-4e8e-8c32-75b1d6fcb388",
   "metadata": {},
   "outputs": [
    {
     "name": "stdout",
     "output_type": "stream",
     "text": [
      "x    = [0 1 2 3]\n",
      "x + 5 = [5 6 7 8]\n"
     ]
    }
   ],
   "source": [
    "\"\"\"\n",
    "UFunc: Array Arithmetic\n",
    "\"\"\"\n",
    "x = np.arange(4)\n",
    "print(\"x    =\",x)\n",
    "print(\"x + 5 =\",x + 5)\n"
   ]
  },
  {
   "cell_type": "code",
   "execution_count": 9,
   "id": "58700a16-58f9-406e-9482-05afcd2329a4",
   "metadata": {},
   "outputs": [
    {
     "name": "stdout",
     "output_type": "stream",
     "text": [
      "[2 1 0 1 2]\n",
      "[5. 5. 2. 1.]\n"
     ]
    }
   ],
   "source": [
    "x = np.array([-2, -1, 0, 1, 2])\n",
    "print(np.abs(x))\n",
    "\n",
    "x = np.array([3-4j, 4-3j, 2+0j, 0+1j])\n",
    "print(np.abs(x))"
   ]
  },
  {
   "cell_type": "code",
   "execution_count": 11,
   "id": "6e4f6cfc-9306-4bee-a5e1-360becd6d089",
   "metadata": {},
   "outputs": [
    {
     "name": "stdout",
     "output_type": "stream",
     "text": [
      "[0.         1.57079633 3.14159265]\n",
      "[0.0000000e+00 1.0000000e+00 1.2246468e-16]\n",
      "[ 1.000000e+00  6.123234e-17 -1.000000e+00]\n",
      "[ 0.00000000e+00  1.63312394e+16 -1.22464680e-16]\n"
     ]
    }
   ],
   "source": [
    "theta = np.linspace(0, np.pi, 3)\n",
    "\n",
    "print(theta)\n",
    "\n",
    "print(np.sin(theta))\n",
    "print(np.cos(theta))\n",
    "print(np.tan(theta))"
   ]
  },
  {
   "cell_type": "code",
   "execution_count": 14,
   "id": "b5db6b44-2603-4344-839c-74b405c16b24",
   "metadata": {},
   "outputs": [
    {
     "name": "stdout",
     "output_type": "stream",
     "text": [
      "[1 2 3 4]\n",
      "10\n",
      "24\n"
     ]
    }
   ],
   "source": [
    "x = np.arange(1,5)\n",
    "print(x)\n",
    "\n",
    "aggr = np.add.reduce(x)\n",
    "print(aggr)\n",
    "\n",
    "aggr = np.multiply.reduce(x)\n",
    "print(aggr)"
   ]
  },
  {
   "cell_type": "code",
   "execution_count": 16,
   "id": "dfae1dfc-6bb0-4671-9aa9-b6f9af284c38",
   "metadata": {},
   "outputs": [
    {
     "name": "stdout",
     "output_type": "stream",
     "text": [
      "[ 1  2  3  4  5  6  7  8  9 10 11 12 13 14]\n",
      "[  1   3   6  10  15  21  28  36  45  55  66  78  91 105]\n"
     ]
    }
   ],
   "source": [
    "x = np.arange(1, 15)\n",
    "print(x)\n",
    "\n",
    "accum = np.add.accumulate(x)\n",
    "print(accum)"
   ]
  },
  {
   "cell_type": "code",
   "execution_count": 20,
   "id": "ef88093b-e4a9-4433-b7fa-34f688674874",
   "metadata": {},
   "outputs": [
    {
     "name": "stdout",
     "output_type": "stream",
     "text": [
      "[0.4359949  0.02592623 0.54966248 ... 0.78483191 0.00778062 0.42442656]\n",
      "sum = 499468.5166853333\n",
      "82.7 ms ± 11 ms per loop (mean ± std. dev. of 7 runs, 10 loops each)\n"
     ]
    }
   ],
   "source": [
    "np.random.seed(2)\n",
    "arr = np.random.rand(1000000)\n",
    "\n",
    "print(arr)\n",
    "print('sum =', np.sum(arr))\n",
    "\n",
    "%timeit sum(arr)"
   ]
  },
  {
   "cell_type": "code",
   "execution_count": null,
   "id": "bfc7ce6a-2e6b-4d42-b5b3-53acb9733ae5",
   "metadata": {},
   "outputs": [],
   "source": []
  }
 ],
 "metadata": {
  "kernelspec": {
   "display_name": "Python 3",
   "language": "python",
   "name": "python3"
  },
  "language_info": {
   "codemirror_mode": {
    "name": "ipython",
    "version": 3
   },
   "file_extension": ".py",
   "mimetype": "text/x-python",
   "name": "python",
   "nbconvert_exporter": "python",
   "pygments_lexer": "ipython3",
   "version": "3.8.8"
  }
 },
 "nbformat": 4,
 "nbformat_minor": 5
}
