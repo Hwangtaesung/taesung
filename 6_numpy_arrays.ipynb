{
 "cells": [
  {
   "cell_type": "code",
   "execution_count": 1,
   "id": "d8cfc0b8-b10b-4a50-95e2-928a9575cb9c",
   "metadata": {},
   "outputs": [],
   "source": [
    "import numpy as np\n",
    "import pandas as pd\n",
    "from matplotlib import pyplot as plt"
   ]
  },
  {
   "cell_type": "code",
   "execution_count": 4,
   "id": "b8b1ae9e-ca79-4fcb-81ac-cf837bc5abb1",
   "metadata": {},
   "outputs": [
    {
     "name": "stdout",
     "output_type": "stream",
     "text": [
      "[1 2 3 4]\n",
      "<class 'numpy.ndarray'>\n"
     ]
    }
   ],
   "source": [
    "# Creating a Numpy Array\n",
    "lst = [1,2,3,4]\n",
    "\n",
    "arr = np.array(lst)\n",
    "print(arr)\n",
    "print(type(arr))"
   ]
  },
  {
   "cell_type": "code",
   "execution_count": 8,
   "id": "4ecc01c3-21aa-4d65-8905-aa61cb92d56f",
   "metadata": {},
   "outputs": [
    {
     "ename": "SyntaxError",
     "evalue": "EOL while scanning string literal (<ipython-input-8-10aa18afbf02>, line 3)",
     "output_type": "error",
     "traceback": [
      "\u001b[1;36m  File \u001b[1;32m\"<ipython-input-8-10aa18afbf02>\"\u001b[1;36m, line \u001b[1;32m3\u001b[0m\n\u001b[1;33m    a = np.array([1,1.4,\"2.5, 1.2, 1,3])\u001b[0m\n\u001b[1;37m                                        ^\u001b[0m\n\u001b[1;31mSyntaxError\u001b[0m\u001b[1;31m:\u001b[0m EOL while scanning string literal\n"
     ]
    }
   ],
   "source": [
    "# .dtype attribute\n",
    "\n",
    "a = np.array([1,1.4,\"2.5, 1.2, 1,3])\n",
    "print(a.dtype)"
   ]
  },
  {
   "cell_type": "code",
   "execution_count": 10,
   "id": "9c23b5a3-8f87-4e64-a729-8560e461812c",
   "metadata": {},
   "outputs": [
    {
     "name": "stdout",
     "output_type": "stream",
     "text": [
      "64\n",
      "108\n"
     ]
    }
   ],
   "source": [
    "\"\"\"\n",
    "Size Comparison of ndarray and list objects\n",
    "\"\"\"\n",
    "\n",
    "from sys import getsizeof\n",
    "\n",
    "lst = [1]\n",
    "print(getsizeof(lst))\n",
    "\n",
    "arr = np.array([1])\n",
    "print(getsizeof(arr))"
   ]
  },
  {
   "cell_type": "code",
   "execution_count": 11,
   "id": "c9f48365-2faf-4e6e-889f-d3d04865112e",
   "metadata": {},
   "outputs": [],
   "source": [
    "\"\"\"\n",
    "Operations with NumPy Arrays\n",
    "\"\"\"\n",
    "prices = [30,25,40,20,20,35,50,35]\n",
    "price_arr = np.array(prices)\n",
    "# With a List\n",
    "new_prices = [price - 5 for price in prices]\n"
   ]
  },
  {
   "cell_type": "code",
   "execution_count": 16,
   "id": "443a8dc2-26f5-4564-94e7-f7bce48174d1",
   "metadata": {},
   "outputs": [
    {
     "name": "stdout",
     "output_type": "stream",
     "text": [
      "[89 87 74 92 94]\n",
      "[260 281 248 276 272]\n",
      "[86.66666667 93.66666667 82.66666667 92.         90.66666667]\n",
      "[[ 92  94  88  91  87]\n",
      " [ 79 100  86  93  91]\n",
      " [ 89  87  74  92  94]]\n",
      "93\n",
      "[94, 88]\n",
      "[87 91 94]\n"
     ]
    }
   ],
   "source": [
    "\"\"\"\n",
    "EX : Operating with Test Scores\n",
    "\"\"\"\n",
    "\n",
    "test_1 =np.array([92,94,88,91,87])\n",
    "test_2 =np.array([79,100,86,93,91])\n",
    "test_3 =np.array([87,85,72,90,92])\n",
    "\n",
    "test_3_fixed = test_3 + 2\n",
    "print(test_3_fixed)\n",
    "\n",
    "total_grade = test_1 + test_2 + test_3_fixed\n",
    "print(total_grade)\n",
    "\n",
    "final_grade = total_grade / 3\n",
    "print(final_grade)\n",
    "\n",
    "student_scores = np.array([test_1, test_2, test_3_fixed])\n",
    "print(student_scores)\n",
    "\n",
    "jeremy_test_2 = student_scores[1, 3]\n",
    "print(jeremy_test_2)\n",
    "\n",
    "manual_adwa_test_1 = ([student_scores[0, 1], student_scores[0, 2]])\n",
    "print(manual_adwa_test_1)\n",
    "\n",
    "print(student_scores[:, 4])"
   ]
  },
  {
   "cell_type": "code",
   "execution_count": 23,
   "id": "2c69505b-b3a1-4345-a948-d5e6ae90ea3b",
   "metadata": {},
   "outputs": [
    {
     "name": "stdout",
     "output_type": "stream",
     "text": [
      "[ True False False False False False  True  True  True  True]\n",
      "[10  9  8  9  7]\n",
      "[10  2  2  3  9  8  9  7]\n",
      "[4 5]\n"
     ]
    }
   ],
   "source": [
    "\"\"\"\n",
    "Logical Operations with Arrays\n",
    "\"\"\"\n",
    "# masking\n",
    "a = np.array([10,2,2,4,5,3,9,8,9,7])\n",
    "mask = a > 5\n",
    "print(mask)\n",
    "\n",
    "# select using Logical operations\n",
    "selected = a[a > 5]\n",
    "print(selected)\n",
    "\n",
    "# combined Logical operations\n",
    "\n",
    "selected = a[(a > 5) | (a < 4)]\n",
    "print(selected)\n",
    "\n",
    "selcted = a[(a > 3) & (a < 7)]\n",
    "print(selcted)"
   ]
  },
  {
   "cell_type": "code",
   "execution_count": null,
   "id": "c75a2d90-9cbb-4ad7-b969-10e57df469c5",
   "metadata": {},
   "outputs": [],
   "source": []
  }
 ],
 "metadata": {
  "kernelspec": {
   "display_name": "Python 3",
   "language": "python",
   "name": "python3"
  },
  "language_info": {
   "codemirror_mode": {
    "name": "ipython",
    "version": 3
   },
   "file_extension": ".py",
   "mimetype": "text/x-python",
   "name": "python",
   "nbconvert_exporter": "python",
   "pygments_lexer": "ipython3",
   "version": "3.8.8"
  }
 },
 "nbformat": 4,
 "nbformat_minor": 5
}
