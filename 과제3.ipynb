{
 "cells": [
  {
   "cell_type": "code",
   "execution_count": 85,
   "id": "51512740-b2f6-48ef-b1b9-a8203e1dd33d",
   "metadata": {},
   "outputs": [
    {
     "name": "stdout",
     "output_type": "stream",
     "text": [
      "255\n",
      "Average price is   31.875\n",
      "[25, 20, 35, 15, 15, 30, 45, 30]\n",
      "Average daily revenue is   155.0\n",
      "bouffant\n",
      "pixie\n",
      "crew\n",
      "bowl\n"
     ]
    }
   ],
   "source": [
    "hairstyles = [\"bouffant\", \"pixie\", \"dreadlocks\", \"crew\", \"bowl\", \"bob\", \"mohawk\", \"flattop\"]\n",
    "prices = [30, 25, 40, 20, 20, 35, 50, 35]\n",
    "last_week = [2, 3, 5, 8, 4, 4, 6, 2]\n",
    "\n",
    "total_prices = 0\n",
    "\n",
    "for a in prices :\n",
    "    \n",
    "    total_prices += a\n",
    "    \n",
    "print(total_prices)\n",
    "\n",
    "average_prices = total_prices / len(prices)\n",
    "\n",
    "print(\"Average price is  \",average_prices)\n",
    "\n",
    "new_prices = [25, 20, 35, 15, 15, 30, 45, 30]\n",
    "          \n",
    "print(new_prices)\n",
    "\n",
    "total_revenue = 0\n",
    "\n",
    "for i in range(len(hairstyles)):\n",
    "    for j in range(len(hairstyles)):\n",
    "        c = [i*j for i,j in zip(prices, last_week)]\n",
    "\n",
    "for d in c:\n",
    "    total_revenue += d\n",
    "\n",
    "average_daily_revenue = total_revenue / 7\n",
    "print(\"Average daily revenue is  \",average_daily_revenue)\n",
    "\n",
    "for i in range(len(hairstyles)):\n",
    "    if new_prices[i] < 30 :\n",
    "        print(hairstyles[i])"
   ]
  },
  {
   "cell_type": "code",
   "execution_count": null,
   "id": "e6fec6ba-238f-454e-9336-1f976914b604",
   "metadata": {},
   "outputs": [],
   "source": []
  }
 ],
 "metadata": {
  "kernelspec": {
   "display_name": "Python 3",
   "language": "python",
   "name": "python3"
  },
  "language_info": {
   "codemirror_mode": {
    "name": "ipython",
    "version": 3
   },
   "file_extension": ".py",
   "mimetype": "text/x-python",
   "name": "python",
   "nbconvert_exporter": "python",
   "pygments_lexer": "ipython3",
   "version": "3.8.8"
  }
 },
 "nbformat": 4,
 "nbformat_minor": 5
}
