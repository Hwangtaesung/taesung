{
 "cells": [
  {
   "cell_type": "code",
   "execution_count": 11,
   "id": "b1e4f332-80f6-410f-9619-1713d9f3f28a",
   "metadata": {},
   "outputs": [
    {
     "name": "stdout",
     "output_type": "stream",
     "text": [
      "[['politics', 80], ['latin', 96], ['dance', 97], ['architecture', 65], ['physics', 98], ['calculus', 97], ['history', 88], ['computer science', 100], ['visual arts', 98], ['poetry', 'Pass']]\n"
     ]
    }
   ],
   "source": [
    "subjects = ['physics','calculus','poetry','history']\n",
    "grades = [98,97,86,88]\n",
    "gradebook = [['physics',98],['calculus',97],['poetry',85],['history',88]]\n",
    "\n",
    "gradebook.append(['computer science', 100])\n",
    "gradebook.append(['visual arts', 93])\n",
    "\n",
    "gradebook[5][1] = 98\n",
    "gradebook.remove(['poetry',85])\n",
    "gradebook.append(['poetry','Pass'])\n",
    "\n",
    "last_semester_gradebook = [[\"politics\", 80], [\"latin\", 96], [\"dance\", 97], [\"architecture\", 65]]\n",
    "full_gradebook = last_semester_gradebook + gradebook\n",
    "print(full_gradebook)"
   ]
  },
  {
   "cell_type": "code",
   "execution_count": null,
   "id": "e012778f-1381-4fa9-98fa-c603645e406f",
   "metadata": {},
   "outputs": [],
   "source": []
  }
 ],
 "metadata": {
  "kernelspec": {
   "display_name": "Python 3",
   "language": "python",
   "name": "python3"
  },
  "language_info": {
   "codemirror_mode": {
    "name": "ipython",
    "version": 3
   },
   "file_extension": ".py",
   "mimetype": "text/x-python",
   "name": "python",
   "nbconvert_exporter": "python",
   "pygments_lexer": "ipython3",
   "version": "3.8.8"
  }
 },
 "nbformat": 4,
 "nbformat_minor": 5
}
