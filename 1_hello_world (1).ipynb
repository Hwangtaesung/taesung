{
 "cells": [
  {
   "cell_type": "code",
   "execution_count": 3,
   "id": "be77423a-a9da-4c5f-a041-0b0b89b6be0b",
   "metadata": {},
   "outputs": [
    {
     "name": "stdout",
     "output_type": "stream",
     "text": [
      "Hello World!\n",
      "100\n",
      "10\n",
      "my name is  Tae sung \n"
     ]
    }
   ],
   "source": [
    "\"\"\"\n",
    "\n",
    "print() function\n",
    "\"\"\"\n",
    "print(\"Hello World!\")\n",
    "print(100)\n",
    "pi = 3.14\n",
    "print(10)\n",
    "\n",
    "intro = \"my name is \"\n",
    "name = \" Tae sung \"\n",
    "\n",
    "print(intro + name)\n"
   ]
  },
  {
   "cell_type": "code",
   "execution_count": 6,
   "id": "78fb6164-3958-4894-be8a-814c03f32ff3",
   "metadata": {},
   "outputs": [],
   "source": [
    "\"\"\"\n",
    "Data Types: Integers\n",
    "\"\"\"\n",
    "\n",
    "chairs = 4\n",
    "tables = 1\n",
    "broken_chairs = -2\n",
    "sofas = 0\n",
    "computers = 1\n",
    "notebooks = 1\n",
    "keyboards = 2"
   ]
  },
  {
   "cell_type": "code",
   "execution_count": 8,
   "id": "e16b6db1-c072-4b91-b198-6e1f2813350b",
   "metadata": {},
   "outputs": [],
   "source": [
    "\"\"\"\n",
    "Data Types: Strings\n",
    "\"\"\"\n",
    "\n",
    "favorite_motto = \"Chance favors the prepared mind.\"\n",
    "favorite_game = \"League of legends\"\n",
    "favorite_athlete = \"Son heung min\"\n",
    "favorite_musician = \"Oasis\""
   ]
  },
  {
   "cell_type": "code",
   "execution_count": 9,
   "id": "fb186c03-ba3e-4e3d-b4aa-ea426758cbf6",
   "metadata": {},
   "outputs": [],
   "source": [
    "\"\"\"\n",
    "Data Types: Numbers\n",
    "\"\"\"\n",
    "\n",
    "days = 365\n",
    "hours = 24\n",
    "minutes = 60"
   ]
  },
  {
   "cell_type": "code",
   "execution_count": 10,
   "id": "fe455177-c45e-4ddc-a11b-516326fa3424",
   "metadata": {},
   "outputs": [
    {
     "name": "stdout",
     "output_type": "stream",
     "text": [
      "10\n"
     ]
    }
   ],
   "source": [
    "\"\"\"\n",
    "Plus-Equals Operations\n",
    "\"\"\"\n",
    "\n",
    "a = 8\n",
    "a += 2\n",
    "print(a)"
   ]
  },
  {
   "cell_type": "code",
   "execution_count": null,
   "id": "518564a1-947a-483c-95c5-71b4db69c88c",
   "metadata": {},
   "outputs": [],
   "source": [
    "\"\"\"\n",
    "Errors\n",
    "\"\"\"\n",
    "\n",
    "# Name Errors\n",
    "\n",
    "print(my_school)\n",
    "my_school = \"HSU\""
   ]
  }
 ],
 "metadata": {
  "kernelspec": {
   "display_name": "Python 3",
   "language": "python",
   "name": "python3"
  },
  "language_info": {
   "codemirror_mode": {
    "name": "ipython",
    "version": 3
   },
   "file_extension": ".py",
   "mimetype": "text/x-python",
   "name": "python",
   "nbconvert_exporter": "python",
   "pygments_lexer": "ipython3",
   "version": "3.8.8"
  }
 },
 "nbformat": 4,
 "nbformat_minor": 5
}
